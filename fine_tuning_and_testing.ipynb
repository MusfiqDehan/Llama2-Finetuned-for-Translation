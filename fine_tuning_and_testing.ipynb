{
 "cells": [
  {
   "cell_type": "markdown",
   "metadata": {},
   "source": [
    "<h1 align=\"center\">Fine Tuning, Evaluation and Testing</h1>\n",
    "<p align=\"center\">This notebook contains the code for Fine Tuning Llama-2, it's Evaluation and Testing</p>\n",
    "\n",
    "## Table of Contents\n",
    "- [Installs and Imports](#installs-and-imports)"
   ]
  },
  {
   "cell_type": "markdown",
   "metadata": {},
   "source": [
    "## Installs and Imports"
   ]
  }
 ],
 "metadata": {
  "language_info": {
   "name": "python"
  }
 },
 "nbformat": 4,
 "nbformat_minor": 2
}
